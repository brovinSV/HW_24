{
 "cells": [
  {
   "cell_type": "code",
   "execution_count": 27,
   "id": "c3bad7bd",
   "metadata": {},
   "outputs": [],
   "source": [
    "\"\"\"\n",
    "2. Є можливість вибрати спосіб виробництва і реалізації двох наборів товарів широкого вжитку. За даними відділу маркетингу, \n",
    "яким були проведені дослідження ринку, можливий прибуток від виробництва і реалізації X і Y наведено в таблицях \n",
    "(X, Y - прибуток у грошових одиницях);\n",
    "\"\"\"\n",
    "import math"
   ]
  },
  {
   "cell_type": "code",
   "execution_count": 17,
   "id": "6e00cfad",
   "metadata": {},
   "outputs": [
    {
     "name": "stdout",
     "output_type": "stream",
     "text": [
      "1350.0\n"
     ]
    }
   ],
   "source": [
    "# Математичне очікування прибутку для товару по X:\n",
    "e_x = 1000*0.5 + 1500*0.3 + 2000*0.2\n",
    "print(e_x)"
   ]
  },
  {
   "cell_type": "code",
   "execution_count": 18,
   "id": "dda7c6e3",
   "metadata": {},
   "outputs": [
    {
     "name": "stdout",
     "output_type": "stream",
     "text": [
      "1350.0\n"
     ]
    }
   ],
   "source": [
    "# Математичне очікування прибутку для товару по Y:\n",
    "e_y = 1000*0.4 + 1500*0.4 + 1750*0.2\n",
    "print(e_y)"
   ]
  },
  {
   "cell_type": "code",
   "execution_count": 23,
   "id": "ce9709ff",
   "metadata": {},
   "outputs": [
    {
     "name": "stdout",
     "output_type": "stream",
     "text": [
      "152500.0\n"
     ]
    }
   ],
   "source": [
    "# Дисперсія прибутку для товару по X:\n",
    "var_x = ((1000 - 1350)**2 * 0.5) + ((1500 - 1350)**2 * 0.3) + ((2000 - 1350)**2 * 0.2)\n",
    "print(var_x)"
   ]
  },
  {
   "cell_type": "code",
   "execution_count": 25,
   "id": "33adb6ff",
   "metadata": {},
   "outputs": [
    {
     "name": "stdout",
     "output_type": "stream",
     "text": [
      "90000.0\n"
     ]
    }
   ],
   "source": [
    "# Дисперсія прибутку для товару по Y:\n",
    "var_y = ((1000-1350)**2 * 0.4) + ((1500-1350)**2 * 0.4) + ((1750-1350)**2 * 0.2)\n",
    "print(var_y)"
   ]
  },
  {
   "cell_type": "code",
   "execution_count": 32,
   "id": "e805b0b1",
   "metadata": {},
   "outputs": [
    {
     "name": "stdout",
     "output_type": "stream",
     "text": [
      "CV(X) =  0.2892685065150613\n",
      "CV(Y) =  0.2222222222222222\n"
     ]
    }
   ],
   "source": [
    "# Використовуємо коефіцієнт варіації (CV) для порівняння ступеня ризику для товарів:\n",
    "cv_x = math.sqrt(var_x) / e_x\n",
    "print(\"CV(X) = \", cv_x)\n",
    "cv_y = math.sqrt(var_y) / e_y\n",
    "print(\"CV(Y) = \", cv_y)"
   ]
  },
  {
   "cell_type": "code",
   "execution_count": null,
   "id": "ff66e27b",
   "metadata": {},
   "outputs": [],
   "source": []
  }
 ],
 "metadata": {
  "kernelspec": {
   "display_name": "Python 3",
   "language": "python",
   "name": "python3"
  },
  "language_info": {
   "codemirror_mode": {
    "name": "ipython",
    "version": 3
   },
   "file_extension": ".py",
   "mimetype": "text/x-python",
   "name": "python",
   "nbconvert_exporter": "python",
   "pygments_lexer": "ipython3",
   "version": "3.8.10"
  }
 },
 "nbformat": 4,
 "nbformat_minor": 5
}
